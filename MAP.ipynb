{
  "cells": [
    {
      "cell_type": "markdown",
      "metadata": {
        "id": "view-in-github",
        "colab_type": "text"
      },
      "source": [
        "<a href=\"https://colab.research.google.com/github/changcherry/TKU-AI-411631111/blob/main/MAP.ipynb\" target=\"_parent\"><img src=\"https://colab.research.google.com/assets/colab-badge.svg\" alt=\"Open In Colab\"/></a>"
      ]
    },
    {
      "cell_type": "code",
      "execution_count": 25,
      "metadata": {
        "colab": {
          "base_uri": "https://localhost:8080/"
        },
        "id": "fbtapfC45PID",
        "outputId": "36d3fc7f-8806-4a7b-9f01-906b7638e08d"
      },
      "outputs": [
        {
          "output_type": "stream",
          "name": "stdout",
          "text": [
            "你好✿歡迎來到 MAP--gogogo!!!!!!\n",
            "請問你今天要搜尋淡江校園地圖還是捷運地圖?_捷運地圖\n",
            "!! 捷運地圖 !!\n",
            "請輸入目的地?_ 大安\n",
            " -> 請搭乘 R淡水信義線\n",
            "-> 請搭乘 ER文胡線\n",
            "出現兩條線以上，皆可搭乘 (♡˙︶˙♡)\n",
            "祝旅途愉快~~~~\n"
          ]
        }
      ],
      "source": [
        "print(\"你好✿歡迎來到 MAP--gogogo!!!!!!\")\n",
        "map = str(input(\"請問你今天要搜尋淡江校園地圖還是捷運地圖?_\"))\n",
        "if (map == \"淡江\")or (map == \"淡江校園\") or (map == \"淡江校園地圖\"):\n",
        "  print(\"!! 淡江校園地圖 !!\")\n",
        "  tku = str(input(\"請輸入英文開頭教室?_\"))\n",
        "  if(tku == \"GA\")or(tku == \"ga\"):\n",
        "   print(\"大門管制站\")\n",
        "  elif (tku == \"P\")or(tku == \"p\"):\n",
        "   print(\"司令台、達文西樂創基地\")\n",
        "  elif (tku == \"N\")or(tku == \"n\"):\n",
        "   print(\"紹謨紀念游泳館\")\n",
        "  elif (tku == \"HC\")or(tku == \"hc\"):\n",
        "   print(\"守謙國際會議中心\")\n",
        "  elif (tku == \"S\")or(tku == \"s\"):\n",
        "   print(\"騮先紀念館\")\n",
        "  elif (tku == \"c\")or(tku == \"C\"):\n",
        "   print(\"鍾靈化學館\")\n",
        "  elif (tku == \"q\")or(tku == \"Q\"):\n",
        "   print(\"傳播館\")  \n",
        "  elif (tku == \"O\")or(tku == \"o\"):\n",
        "   print(\"傳播館\")\n",
        "  elif (tku == \"SG\")or(tku == \"sg\"):\n",
        "   print(\"紹謨體育館\")\n",
        "  elif (tku == \"J\")or(tku == \"j\"):\n",
        "   print(\"麗澤國際學舍\")  \n",
        "  elif (tku == \"ge\")or(tku == \"GE\"):\n",
        "   print(\"大中管制站\")\n",
        "  elif (tku == \"L\")or(tku == \"l\"):\n",
        "   print(\"文學館\")\n",
        "  elif (tku == \"F\")or(tku == \"f\"):\n",
        "   print(\"會文館\")\n",
        "  elif (tku == \"B\")or(tku == \"b\"):\n",
        "   print(\"商管大樓\")\n",
        "  elif (tku == \"M\")or(tku == \"m\"):\n",
        "   print(\"海事博物館、黑天鵝展示廳\")\n",
        "  elif (tku == \"G\")or(tku == \"g\"):\n",
        "   print(\"工學館\")\n",
        "  elif (tku == \"ed\")or(tku == \"ED\"):\n",
        "    print(\"教育館\")\n",
        "  elif (tku == \"X\")or(tku == \"x\"):\n",
        "    print(\"五虎崗機車停車場\")\n",
        "  elif (tku == \"Z\")or(tku == \"z\"):\n",
        "    print(\"松濤1~5館、美食廣場、文錙藝術中心\")\n",
        "  elif (tku == \"XC\")or(tku == \"xc\"):\n",
        "    print(\"五虎崗綜合球場\")\n",
        "  elif (tku == \"DR\")or(tku == \"dr\"):\n",
        "    print(\"白樓\")\n",
        "\n",
        "  elif (tku == \"CH\")or(tku == \"ch\"):\n",
        "    print(\"覺軒\")\n",
        "  elif (tku == \"TH\")or(tku == \"th\"):\n",
        "    print(\"校史館暨張建邦創辦人紀念館\")\n",
        "  elif (tku == \"YY\")or(tku == \"yy\"): \n",
        "    print(\"瀛苑\")\n",
        "  elif (tku == \"H\")or(tku == \"h\") :\n",
        "    print(\" 宮燈教室\")\n",
        "  elif (tku == \"A\")or(tku == \"a\") :\n",
        "    print(\"行政大樓\")\n",
        "  elif (tku == \"V\")or(tku == \"v\") :\n",
        "    print(\" 視聽教育館\")\n",
        "  elif (tku == \"R\")or(tku == \"r\") :\n",
        "    print(\"建邦中小企業創新教育成中心、郵局、學生活動中心\")\n",
        "  elif (tku == \"GO\")or(tku == \"go\") :\n",
        "    print(\"勤務監控管中心\")\n",
        "  elif (tku == \"I\")or(tku == \"i\") :\n",
        "    print(\"覺生國際會議廳、覺生綜合大樓\")\n",
        "  elif (tku == \"U\")or(tku == \"u\") :\n",
        "    print(\"覺生紀念圖書館\")\n",
        "  elif (tku == \"T\")or(tku == \"t\"):\n",
        "    print(\" 驚聲國際會議廳、文錙音樂廳、驚聲紀念大樓\")\n",
        "  elif (tku == \"FP\")or(tku == \"fp\"):\n",
        "    print(\" 實棟學人宿舍\")\n",
        "  elif (tku == \"fl\")or(tku == \"FL\"):\n",
        "    print(\"外國語文大樓\")\n",
        "  print(\"✧*｡ HAVE A NICE DAY ✧*｡ \")\n",
        "\n",
        "else:\n",
        "  print(\"!! 捷運地圖 !!\")\n",
        "  mrt = str(input(\"請輸入目的地?_ \"))\n",
        "  if (mrt == \"象山\" )or (mrt == \"台北101\")or (mrt == \"世貿\") or(mrt ==\"信義安和\")or(mrt ==\"大安\")or(mrt ==\"大安森林公園\")or(mrt ==\"東門\")or(mrt ==\"中正紀念館\")or(mrt ==\"臺大醫院\")or(mrt ==\"中山\")or(mrt ==\"雙連\")or(mrt ==\"民權西路\")or(mrt ==\"圓山\")or(mrt ==\"劍潭\")or(mrt ==\"士林\")or(mrt ==\"芝山\")or(mrt ==\"明德\")or(mrt ==\"石牌\")or(mrt ==\"唭哩岸\")or(mrt ==\"奇岩\")or(mrt ==\"北投\"):\n",
        "   print( \" -> 請搭乘 R淡水信義線\")\n",
        "  if (mrt == \"復興崗\") or(mrt ==\"忠義\") or(mrt ==\"竹圍\")or(mrt == \"紅樹林\")or(mrt ==\"淡水\")or(mrt == \"台北車站\"):\n",
        "   print(\"-> 請搭乘 R淡水信義線\")\n",
        "  elif (mrt ==\"頂埔\")or(mrt ==\"永寧\")or(mrt ==\"土城\")or(mrt ==\"海山\")or(mrt ==\"亞東醫院\")or(mrt ==\"府中\")or(mrt ==\"板橋\")or(mrt ==\"新埔\")or(mrt ==\"清子翠\")or(mrt ==\"龍山寺\")or(mrt ==\"西門\")or(mrt ==\"台北車站\")or(mrt ==\"善導寺\")or(mrt ==\"忠孝新生\")or(mrt ==\"忠孝敦化\")or(mrt ==\"國父紀念館\")or(mrt ==\" 市政府 \")or(mrt ==\" 永春 \")or(mrt ==\" 後山埤 \")or(mrt ==\" 昆陽 \")or(mrt ==\" 南港 \")or(mrt ==\" 南港展覽館 \"):\n",
        "   print(\"-> 請搭乘 BL板南線 \")\n",
        "  elif (mrt ==\"松山車站\")or(mrt ==\"南京三民\")or(mrt ==\"台北小巨蛋\")or(mrt ==\"南京復興\")or(mrt ==\"松山南京\")or(mrt ==\"中山\")or(mrt ==\"北門\")or(mrt ==\"西門\")or(mrt ==\"小南門\")or(mrt ==\"中正紀念館\")or(mrt ==\"古亭\")or(mrt ==\"台電大樓\")or(mrt ==\"公館\")or(mrt ==\"萬隆\")or(mrt ==\"景美\")or(mrt ==\"大坪林\")or(mrt ==\"七張\")or(mrt ==\"新店區公所\")or(mrt ==\"新店\"):\n",
        "   print(\"-> 請搭乘 G松山新店線\")\n",
        "  elif (mrt ==\"南勢角\")or(mrt ==\"景安\")or(mrt ==\"永安市場\")or(mrt ==\"頂溪\")or(mrt ==\"古亭\")or(mrt ==\"東門\")or(mrt ==\"忠孝新生\")or(mrt ==\" 松山江南\")or(mrt ==\"行天宮\")or(mrt ==\"中山國小\")or(mrt ==\"民權西路\")or(mrt ==\"大橋頭\"):\n",
        "   print(\"-> 請搭乘 O中和新蘆線\")\n",
        "  elif (mrt ==\"木柵\")or(mrt ==\"萬芳社區\")or(mrt ==\"萬芳醫院\")or(mrt ==\"辛亥\")or(mrt ==\"麟光\")or(mrt ==\"六張犁\")or(mrt ==\"科技大樓\")or(mrt ==\"大安\")or(mrt ==\"忠孝復興\")or(mrt ==\"南京複姓\")or(mrt ==\"中山國中\")or(mrt ==\"松山機場\")or(mrt ==\"大直 \")or(mrt ==\"劍南路\")or(mrt ==\"西湖\")or(mrt ==\"大湖公園\")or(mrt ==\"葫洲\")or(mrt ==\"東湖\")or(mrt ==\"南港軟體園區\")or(mrt ==\"南港展覽館 \"):\n",
        "   print (\"-> 請搭乘 ER文胡線\")\n",
        "  print (\"出現兩條線以上，皆可搭乘 (♡˙︶˙♡)\")\n",
        "  print(\"祝旅途愉快~~~~\")\n"
      ]
    }
  ],
  "metadata": {
    "colab": {
      "provenance": [],
      "authorship_tag": "ABX9TyMlh+0a/iFqIDMr00X1lZga",
      "include_colab_link": true
    },
    "kernelspec": {
      "display_name": "Python 3",
      "name": "python3"
    },
    "language_info": {
      "name": "python"
    }
  },
  "nbformat": 4,
  "nbformat_minor": 0
}