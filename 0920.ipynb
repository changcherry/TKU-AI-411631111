{
  "nbformat": 4,
  "nbformat_minor": 0,
  "metadata": {
    "colab": {
      "provenance": [],
      "collapsed_sections": [],
      "authorship_tag": "ABX9TyO4iuEjQxtGBmHc00OkIfoZ",
      "include_colab_link": true
    },
    "kernelspec": {
      "name": "python3",
      "display_name": "Python 3"
    },
    "language_info": {
      "name": "python"
    }
  },
  "cells": [
    {
      "cell_type": "markdown",
      "metadata": {
        "id": "view-in-github",
        "colab_type": "text"
      },
      "source": [
        "<a href=\"https://colab.research.google.com/github/changcherry/TKU-AI-411631111/blob/main/0920.ipynb\" target=\"_parent\"><img src=\"https://colab.research.google.com/assets/colab-badge.svg\" alt=\"Open In Colab\"/></a>"
      ]
    },
    {
      "cell_type": "code",
      "execution_count": null,
      "metadata": {
        "id": "KaNVC0SYR1m7"
      },
      "outputs": [],
      "source": [
        "print(\"hi\")"
      ]
    },
    {
      "cell_type": "code",
      "source": [
        "#g=1\n",
        "h=2\n",
        "i=3"
      ],
      "metadata": {
        "id": "fEQ_bdgQSKkI"
      },
      "execution_count": null,
      "outputs": []
    },
    {
      "cell_type": "code",
      "source": [
        "g"
      ],
      "metadata": {
        "colab": {
          "base_uri": "https://localhost:8080/",
          "height": 167
        },
        "id": "jhu8X7JZSUJK",
        "outputId": "de36086c-eaa5-4f97-bb3d-5c428ca9d6a3"
      },
      "execution_count": null,
      "outputs": [
        {
          "output_type": "error",
          "ename": "NameError",
          "evalue": "ignored",
          "traceback": [
            "\u001b[0;31m---------------------------------------------------------------------------\u001b[0m",
            "\u001b[0;31mNameError\u001b[0m                                 Traceback (most recent call last)",
            "\u001b[0;32m<ipython-input-3-a5938ace3f42>\u001b[0m in \u001b[0;36m<module>\u001b[0;34m\u001b[0m\n\u001b[0;32m----> 1\u001b[0;31m \u001b[0mg\u001b[0m\u001b[0;34m\u001b[0m\u001b[0;34m\u001b[0m\u001b[0m\n\u001b[0m",
            "\u001b[0;31mNameError\u001b[0m: name 'g' is not defined"
          ]
        }
      ]
    },
    {
      "cell_type": "code",
      "source": [
        "h,i\n"
      ],
      "metadata": {
        "colab": {
          "base_uri": "https://localhost:8080/"
        },
        "id": "s9iSzlQrSNNU",
        "outputId": "3a00f94e-b0f5-4afa-8a99-794720f54da2"
      },
      "execution_count": null,
      "outputs": [
        {
          "output_type": "execute_result",
          "data": {
            "text/plain": [
              "(2, 3)"
            ]
          },
          "metadata": {},
          "execution_count": 4
        }
      ]
    },
    {
      "cell_type": "code",
      "source": [
        "print(\"天是9/20B\")"
      ],
      "metadata": {
        "colab": {
          "base_uri": "https://localhost:8080/"
        },
        "id": "nRFoPRJFStFk",
        "outputId": "aa132af2-8107-45b9-a6f7-74161077978c"
      },
      "execution_count": null,
      "outputs": [
        {
          "output_type": "stream",
          "name": "stdout",
          "text": [
            "天是9/20\n"
          ]
        }
      ]
    },
    {
      "cell_type": "code",
      "source": [
        "print(\"今天是9/20\")"
      ],
      "metadata": {
        "colab": {
          "base_uri": "https://localhost:8080/"
        },
        "id": "9vJS6PXDTcra",
        "outputId": "801c1b9d-d65d-4fcc-b302-320887401abf"
      },
      "execution_count": null,
      "outputs": [
        {
          "output_type": "stream",
          "name": "stdout",
          "text": [
            "今天是9/20\n"
          ]
        }
      ]
    },
    {
      "cell_type": "code",
      "source": [
        "stre = (\"cherry說:'hey你好'\")"
      ],
      "metadata": {
        "id": "satjSuUwTx5j"
      },
      "execution_count": 6,
      "outputs": []
    },
    {
      "cell_type": "code",
      "source": [
        "stre"
      ],
      "metadata": {
        "colab": {
          "base_uri": "https://localhost:8080/",
          "height": 36
        },
        "id": "6e5jm46IUjC0",
        "outputId": "93403cfc-13cf-494f-ef48-351cddeedeaf"
      },
      "execution_count": null,
      "outputs": [
        {
          "output_type": "execute_result",
          "data": {
            "text/plain": [
              "\"cherry說:'hey你好'\""
            ],
            "application/vnd.google.colaboratory.intrinsic+json": {
              "type": "string"
            }
          },
          "metadata": {},
          "execution_count": 10
        }
      ]
    },
    {
      "cell_type": "code",
      "source": [
        "stre2 = 'cherry說:\"hey你好\"'"
      ],
      "metadata": {
        "id": "oDYbdrv3UtEn"
      },
      "execution_count": null,
      "outputs": []
    },
    {
      "cell_type": "code",
      "source": [
        "stre2"
      ],
      "metadata": {
        "colab": {
          "base_uri": "https://localhost:8080/",
          "height": 36
        },
        "id": "bW6epsj0VQ3H",
        "outputId": "d69e1ec4-b822-405f-eab4-f480e32255a0"
      },
      "execution_count": null,
      "outputs": [
        {
          "output_type": "execute_result",
          "data": {
            "text/plain": [
              "'cherry說:\"hey你好\"'"
            ],
            "application/vnd.google.colaboratory.intrinsic+json": {
              "type": "string"
            }
          },
          "metadata": {},
          "execution_count": 13
        }
      ]
    },
    {
      "cell_type": "code",
      "source": [
        "print(type(56))\n",
        "print(type(56.0))\n",
        "print(type(\"Hey man, how are you?\"))\n",
        "print(type(True))"
      ],
      "metadata": {
        "colab": {
          "base_uri": "https://localhost:8080/"
        },
        "id": "Q9Z2wze1VThk",
        "outputId": "24081b36-52b4-4771-9fc3-01cd833410c0"
      },
      "execution_count": null,
      "outputs": [
        {
          "output_type": "stream",
          "name": "stdout",
          "text": [
            "<class 'int'>\n",
            "<class 'float'>\n",
            "<class 'str'>\n",
            "<class 'bool'>\n"
          ]
        }
      ]
    },
    {
      "cell_type": "code",
      "source": [
        "num=1"
      ],
      "metadata": {
        "id": "4OyfSzt8VlJa"
      },
      "execution_count": null,
      "outputs": []
    },
    {
      "cell_type": "code",
      "source": [
        "num+1.1"
      ],
      "metadata": {
        "colab": {
          "base_uri": "https://localhost:8080/"
        },
        "id": "46P_ydXtW53_",
        "outputId": "a30c2ac4-ba0d-46b1-f0b6-11d056fa3f48"
      },
      "execution_count": null,
      "outputs": [
        {
          "output_type": "execute_result",
          "data": {
            "text/plain": [
              "2.2"
            ]
          },
          "metadata": {},
          "execution_count": 23
        }
      ]
    },
    {
      "cell_type": "code",
      "source": [
        "print(type(num))"
      ],
      "metadata": {
        "colab": {
          "base_uri": "https://localhost:8080/"
        },
        "id": "QWTjIcSiXAAQ",
        "outputId": "34956794-22ac-48a8-dda3-61e8f3d8ca82"
      },
      "execution_count": null,
      "outputs": [
        {
          "output_type": "stream",
          "name": "stdout",
          "text": [
            "<class 'float'>\n"
          ]
        }
      ]
    },
    {
      "cell_type": "code",
      "source": [
        "num2=2.1"
      ],
      "metadata": {
        "id": "YSTmnTCoXP-s"
      },
      "execution_count": null,
      "outputs": []
    },
    {
      "cell_type": "code",
      "source": [
        "print(type(num2))"
      ],
      "metadata": {
        "colab": {
          "base_uri": "https://localhost:8080/"
        },
        "id": "tBkSSAPOXWOe",
        "outputId": "3e46da99-03ed-4952-b676-3cedde1d2621"
      },
      "execution_count": null,
      "outputs": [
        {
          "output_type": "stream",
          "name": "stdout",
          "text": [
            "<class 'float'>\n"
          ]
        }
      ]
    },
    {
      "cell_type": "code",
      "source": [
        "num3=1+1.1"
      ],
      "metadata": {
        "id": "mdX6_EvRXftA"
      },
      "execution_count": null,
      "outputs": []
    },
    {
      "cell_type": "code",
      "source": [
        "num3"
      ],
      "metadata": {
        "colab": {
          "base_uri": "https://localhost:8080/"
        },
        "id": "MGO08MYCXrPL",
        "outputId": "9f747413-ba18-4ffe-c165-6fe70bfbfe65"
      },
      "execution_count": null,
      "outputs": [
        {
          "output_type": "execute_result",
          "data": {
            "text/plain": [
              "2.1"
            ]
          },
          "metadata": {},
          "execution_count": 29
        }
      ]
    },
    {
      "cell_type": "code",
      "source": [
        "print(type(num3))"
      ],
      "metadata": {
        "colab": {
          "base_uri": "https://localhost:8080/"
        },
        "id": "C9pm-j_GXugM",
        "outputId": "41b4e9b5-ebb6-4a92-acb7-72ba7d8fa6f7"
      },
      "execution_count": null,
      "outputs": [
        {
          "output_type": "stream",
          "name": "stdout",
          "text": [
            "<class 'float'>\n"
          ]
        }
      ]
    },
    {
      "cell_type": "code",
      "source": [
        "a=1\n",
        "b=2\n",
        "c=3"
      ],
      "metadata": {
        "id": "wkc8dbb1YKkl"
      },
      "execution_count": null,
      "outputs": []
    },
    {
      "cell_type": "code",
      "source": [
        "print(a,b,c,)"
      ],
      "metadata": {
        "colab": {
          "base_uri": "https://localhost:8080/"
        },
        "id": "oZw6e8YfaxIL",
        "outputId": "d4ac9208-97c2-4ca6-af4f-e03976d03e23"
      },
      "execution_count": null,
      "outputs": [
        {
          "output_type": "stream",
          "name": "stdout",
          "text": [
            "1 2 3\n"
          ]
        }
      ]
    },
    {
      "cell_type": "code",
      "source": [
        "print([a,b,c])"
      ],
      "metadata": {
        "colab": {
          "base_uri": "https://localhost:8080/"
        },
        "id": "ctYae10Da6r7",
        "outputId": "c9b53ec7-c0b5-46b4-b1bb-49bfe90bea93"
      },
      "execution_count": null,
      "outputs": [
        {
          "output_type": "stream",
          "name": "stdout",
          "text": [
            "[1, 2, 3]\n"
          ]
        }
      ]
    },
    {
      "cell_type": "code",
      "source": [
        "print(a,[b,c])"
      ],
      "metadata": {
        "colab": {
          "base_uri": "https://localhost:8080/"
        },
        "id": "qlic9q_ibBF5",
        "outputId": "3f264a15-59b6-4290-b150-ce6148850c94"
      },
      "execution_count": null,
      "outputs": [
        {
          "output_type": "stream",
          "name": "stdout",
          "text": [
            "1 [2, 3]\n"
          ]
        }
      ]
    },
    {
      "cell_type": "code",
      "source": [
        "print(\"hey\",\"hi\",\"hello\")\n",
        "print(\"hey\",\"hi\",\"hello\",sep='_')\n",
        "print(\"hey\",\"hi\",\"hello\",sep='\\t')\n",
        "print(\"hey\",\"hi\",\"hello\",sep='\\n')"
      ],
      "metadata": {
        "colab": {
          "base_uri": "https://localhost:8080/"
        },
        "id": "KVWtD9qZbKfi",
        "outputId": "a9357ef1-8310-4116-cd21-9c032b901d15"
      },
      "execution_count": null,
      "outputs": [
        {
          "output_type": "stream",
          "name": "stdout",
          "text": [
            "hey hi hello\n",
            "hey_hi_hello\n",
            "hey\thi\thello\n",
            "hey\n",
            "hi\n",
            "hello\n"
          ]
        }
      ]
    },
    {
      "cell_type": "code",
      "source": [
        "print(\"午安\")\n",
        "print(\"同學好!\")\n",
        "print(\"打起精神來!!\")\n",
        "\n"
      ],
      "metadata": {
        "colab": {
          "base_uri": "https://localhost:8080/"
        },
        "id": "LwREGvy1bqxn",
        "outputId": "9c9ce33b-a039-4d54-8331-e5c81df6dd55"
      },
      "execution_count": null,
      "outputs": [
        {
          "output_type": "stream",
          "name": "stdout",
          "text": [
            "午安\n",
            "同學好!\n",
            "打起精神來!!\n"
          ]
        }
      ]
    },
    {
      "cell_type": "code",
      "source": [
        "print('午安','同學好!','打請精神來!!',sep ='\\n' )\n"
      ],
      "metadata": {
        "colab": {
          "base_uri": "https://localhost:8080/"
        },
        "id": "B-i-6gesdXjX",
        "outputId": "649e08b9-2a30-48e0-c76b-7eda22e607c8"
      },
      "execution_count": 5,
      "outputs": [
        {
          "output_type": "stream",
          "name": "stdout",
          "text": [
            "午安\n",
            "同學好!\n",
            "打請精神來!!\n"
          ]
        }
      ]
    },
    {
      "cell_type": "code",
      "source": [
        "print(123)\n",
        "print(456)\n"
      ],
      "metadata": {
        "id": "JY3Mu3GWeIQz",
        "colab": {
          "base_uri": "https://localhost:8080/"
        },
        "outputId": "c12fb486-d9bd-4ee4-bbcf-38eb60d91e23"
      },
      "execution_count": 3,
      "outputs": [
        {
          "output_type": "stream",
          "name": "stdout",
          "text": [
            "123\n",
            "456\n"
          ]
        }
      ]
    },
    {
      "cell_type": "code",
      "source": [
        "print(123,end=\",\")\n",
        "print(456)"
      ],
      "metadata": {
        "colab": {
          "base_uri": "https://localhost:8080/"
        },
        "id": "-8-PORA2f5EA",
        "outputId": "b9ed7b2a-7d16-478e-89d5-46b56f86ff03"
      },
      "execution_count": 5,
      "outputs": [
        {
          "output_type": "stream",
          "name": "stdout",
          "text": [
            "123,456\n"
          ]
        }
      ]
    },
    {
      "cell_type": "code",
      "source": [
        "print(123,end='')\n",
        "print(456)"
      ],
      "metadata": {
        "colab": {
          "base_uri": "https://localhost:8080/"
        },
        "id": "eC4I3SRbgJsL",
        "outputId": "de1dcb3a-0575-4059-812f-eccc5f872544"
      },
      "execution_count": 6,
      "outputs": [
        {
          "output_type": "stream",
          "name": "stdout",
          "text": [
            "123456\n"
          ]
        }
      ]
    },
    {
      "cell_type": "code",
      "source": [
        "test1=input('輸入')"
      ],
      "metadata": {
        "colab": {
          "base_uri": "https://localhost:8080/"
        },
        "id": "g4JiwTSkgUEZ",
        "outputId": "30581a0f-cfc5-45c6-9364-6ba97393af95"
      },
      "execution_count": 7,
      "outputs": [
        {
          "name": "stdout",
          "output_type": "stream",
          "text": [
            "輸入1 2 3\n"
          ]
        }
      ]
    },
    {
      "cell_type": "code",
      "source": [
        "test1"
      ],
      "metadata": {
        "colab": {
          "base_uri": "https://localhost:8080/",
          "height": 36
        },
        "id": "zxo5wT-wghzL",
        "outputId": "c8f4d735-4e51-4a63-f063-a7ab5a9f457f"
      },
      "execution_count": 8,
      "outputs": [
        {
          "output_type": "execute_result",
          "data": {
            "text/plain": [
              "'1 2 3'"
            ],
            "application/vnd.google.colaboratory.intrinsic+json": {
              "type": "string"
            }
          },
          "metadata": {},
          "execution_count": 8
        }
      ]
    },
    {
      "cell_type": "code",
      "source": [
        "test2 = int(input('輸入'))"
      ],
      "metadata": {
        "colab": {
          "base_uri": "https://localhost:8080/"
        },
        "id": "2NZj8uejglUH",
        "outputId": "f0d20ef3-2015-430b-e188-469286b79fb0"
      },
      "execution_count": 10,
      "outputs": [
        {
          "name": "stdout",
          "output_type": "stream",
          "text": [
            "輸入123\n"
          ]
        }
      ]
    },
    {
      "cell_type": "code",
      "source": [
        "test2"
      ],
      "metadata": {
        "colab": {
          "base_uri": "https://localhost:8080/"
        },
        "id": "Jhu50mI8gEfS",
        "outputId": "a4deaa2b-5506-40d3-a894-1454780f20a0"
      },
      "execution_count": 11,
      "outputs": [
        {
          "output_type": "execute_result",
          "data": {
            "text/plain": [
              "123"
            ]
          },
          "metadata": {},
          "execution_count": 11
        }
      ]
    },
    {
      "cell_type": "code",
      "source": [
        "test2+1.1"
      ],
      "metadata": {
        "colab": {
          "base_uri": "https://localhost:8080/"
        },
        "id": "lVWMwzQihBKq",
        "outputId": "39992ab9-1c5a-4a74-f276-b89cac3a4c71"
      },
      "execution_count": 13,
      "outputs": [
        {
          "output_type": "execute_result",
          "data": {
            "text/plain": [
              "124.1"
            ]
          },
          "metadata": {},
          "execution_count": 13
        }
      ]
    },
    {
      "cell_type": "markdown",
      "source": [
        "國文=int(input('請輸入國文成績'))\n",
        "\n",
        "\n"
      ],
      "metadata": {
        "id": "NNKms_-3ei82"
      }
    },
    {
      "cell_type": "code",
      "source": [
        "chinese=int(input('請輸入國文成績:'))"
      ],
      "metadata": {
        "colab": {
          "base_uri": "https://localhost:8080/"
        },
        "id": "ld4hRdL5j6wX",
        "outputId": "a740104d-1690-42bf-ceaa-f3740834d890"
      },
      "execution_count": 20,
      "outputs": [
        {
          "name": "stdout",
          "output_type": "stream",
          "text": [
            "請輸入國文成績:50\n"
          ]
        }
      ]
    },
    {
      "cell_type": "markdown",
      "source": [
        "國文=int(input('請輸入國文成績'))\n",
        "\n",
        "\n"
      ],
      "metadata": {
        "id": "T6ftvrOskAJW"
      }
    },
    {
      "cell_type": "code",
      "source": [
        "english=int(input('請輸入英文成績;'))"
      ],
      "metadata": {
        "colab": {
          "base_uri": "https://localhost:8080/"
        },
        "id": "XWYngkzehd6f",
        "outputId": "06deb98a-68be-4f24-ae4c-8002d7bbad44"
      },
      "execution_count": 22,
      "outputs": [
        {
          "name": "stdout",
          "output_type": "stream",
          "text": [
            "請輸入英文成績;60\n"
          ]
        }
      ]
    },
    {
      "cell_type": "code",
      "source": [
        "mm=int(input('請輸入數學成績;'))"
      ],
      "metadata": {
        "colab": {
          "base_uri": "https://localhost:8080/"
        },
        "id": "wNIaGEr0klNA",
        "outputId": "fe0f8e9d-e2bd-4577-866b-e5e270ae8e32"
      },
      "execution_count": 23,
      "outputs": [
        {
          "name": "stdout",
          "output_type": "stream",
          "text": [
            "請輸入數學成績;70\n"
          ]
        }
      ]
    },
    {
      "cell_type": "code",
      "source": [
        "all=chinese+english+mm\n",
        "print('你的總成績為:')\n",
        "print(all)"
      ],
      "metadata": {
        "colab": {
          "base_uri": "https://localhost:8080/"
        },
        "id": "hMOOc0gQk0Xt",
        "outputId": "0fd0821d-051b-4391-9c4a-3a08e4ec0f31"
      },
      "execution_count": 25,
      "outputs": [
        {
          "output_type": "stream",
          "name": "stdout",
          "text": [
            "你的總成績為:\n",
            "180\n"
          ]
        }
      ]
    },
    {
      "cell_type": "code",
      "source": [
        "up = int(input('清輸入梯形上底長度'))"
      ],
      "metadata": {
        "colab": {
          "base_uri": "https://localhost:8080/"
        },
        "id": "tefUFjuulHDi",
        "outputId": "250ad496-6d8e-4dfe-e515-b9ebfecf5f52"
      },
      "execution_count": 1,
      "outputs": [
        {
          "name": "stdout",
          "output_type": "stream",
          "text": [
            "清輸入梯形上底長度3\n"
          ]
        }
      ]
    },
    {
      "cell_type": "code",
      "source": [
        "down = int(input('請輸入梯形下底長度'))"
      ],
      "metadata": {
        "colab": {
          "base_uri": "https://localhost:8080/"
        },
        "id": "qEWkupQ3H8Qi",
        "outputId": "b8f575f3-11db-4f6a-9b03-e743bfe0d0f1"
      },
      "execution_count": 2,
      "outputs": [
        {
          "name": "stdout",
          "output_type": "stream",
          "text": [
            "請輸入梯形下底長度4\n"
          ]
        }
      ]
    },
    {
      "cell_type": "code",
      "source": [
        "hight = int(input('請輸入梯形的高'))"
      ],
      "metadata": {
        "colab": {
          "base_uri": "https://localhost:8080/"
        },
        "id": "-KdHWiB-IIQe",
        "outputId": "3a871d05-2bc3-440c-b131-08773b2c76e9"
      },
      "execution_count": 3,
      "outputs": [
        {
          "name": "stdout",
          "output_type": "stream",
          "text": [
            "請輸入梯形的高3\n"
          ]
        }
      ]
    },
    {
      "cell_type": "code",
      "source": [
        "area =( up + down ) *hight/2\n",
        "print('梯形面積為')\n",
        "print(area)\n"
      ],
      "metadata": {
        "colab": {
          "base_uri": "https://localhost:8080/"
        },
        "id": "zdJjTihqIXHi",
        "outputId": "2138987d-16e8-4390-83d0-a114185dfeea"
      },
      "execution_count": 4,
      "outputs": [
        {
          "output_type": "stream",
          "name": "stdout",
          "text": [
            "梯形面積為\n",
            "10.5\n"
          ]
        }
      ]
    }
  ]
}